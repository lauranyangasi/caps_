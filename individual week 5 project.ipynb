{
 "cells": [
  {
   "cell_type": "code",
   "execution_count": null,
   "metadata": {},
   "outputs": [
    {
     "ename": "",
     "evalue": "",
     "output_type": "error",
     "traceback": [
      "\u001b[1;31mRunning cells with 'c:\\Users\\ADMIN\\AppData\\Local\\Programs\\Python\\Python311\\python.exe' requires the ipykernel package.\n",
      "\u001b[1;31mRun the following command to install 'ipykernel' into the Python environment. \n",
      "\u001b[1;31mCommand: 'c:/Users/ADMIN/AppData/Local/Programs/Python/Python311/python.exe -m pip install ipykernel -U --user --force-reinstall'"
     ]
    }
   ],
   "source": [
    "#input\n",
    "principal = float(input(\"please input the principal amount: GHS\"))\n",
    "interest = float(input(\"please enter the interest rate(as percentage): \"))\n",
    "year = float(input(\"enter number of years: \"))\n",
    "\n",
    "#convert\n",
    "# M = P [ i(1 + i)^n ] / [ (1 + i)^n – 1]\n",
    "#M = Total monthly payment\n",
    "#P = The total amount of your loan\n",
    "#i = Your interest rate, as a monthly percentage\n",
    "#N = The total amount of months in your timeline for paying off your mortgage.\n",
    "#convert interest\n",
    "i = (interest / 100) / 12\n",
    "N = year * 12\n",
    "#calculate m(total monthly payment)\n",
    "Total_monthly_payment = principal * (i * (1 + i) ** N) / ((1 + i) ** N - 1)\n",
    "\n",
    "Total_amount_paid = Total_monthly_payment * N\n",
    "\n",
    "print(f\" \\033[1m Result ... \\033[0m \\nFor a {year}-year mortgage loan of GHS{principal} \\\n",
    "at an annual interest rate of {interest} % you pay\")\n",
    "print(f\" \\033[1m{round(Total_monthly_payment, 2)} monthly \\033[0m\")\n",
    "print(\"----------------------------\")\n",
    "print(f\" \\033[1m Total amount paid \\033[0m {round(Total_amount_paid, 2)}\")\n",
    "print(\"----------------------------\")"
   ]
  }
 ],
 "metadata": {
  "kernelspec": {
   "display_name": "Python 3",
   "language": "python",
   "name": "python3"
  },
  "language_info": {
   "name": "python",
   "version": "3.11.3"
  },
  "orig_nbformat": 4
 },
 "nbformat": 4,
 "nbformat_minor": 2
}
